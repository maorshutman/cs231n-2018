{
 "cells": [
  {
   "cell_type": "markdown",
   "metadata": {},
   "source": [
    "# Softmax exercise\n",
    "\n",
    "*Complete and hand in this completed worksheet (including its outputs and any supporting code outside of the worksheet) with your assignment submission. For more details see the [assignments page](http://vision.stanford.edu/teaching/cs231n/assignments.html) on the course website.*\n",
    "\n",
    "This exercise is analogous to the SVM exercise. You will:\n",
    "\n",
    "- implement a fully-vectorized **loss function** for the Softmax classifier\n",
    "- implement the fully-vectorized expression for its **analytic gradient**\n",
    "- **check your implementation** with numerical gradient\n",
    "- use a validation set to **tune the learning rate and regularization** strength\n",
    "- **optimize** the loss function with **SGD**\n",
    "- **visualize** the final learned weights\n"
   ]
  },
  {
   "cell_type": "code",
   "execution_count": 1,
   "metadata": {
    "collapsed": true
   },
   "outputs": [],
   "source": [
    "import random\n",
    "import numpy as np\n",
    "from cs231n.data_utils import load_CIFAR10\n",
    "import matplotlib.pyplot as plt\n",
    "\n",
    "from __future__ import print_function\n",
    "\n",
    "%matplotlib inline\n",
    "plt.rcParams['figure.figsize'] = (10.0, 8.0) # set default size of plots\n",
    "plt.rcParams['image.interpolation'] = 'nearest'\n",
    "plt.rcParams['image.cmap'] = 'gray'\n",
    "\n",
    "# for auto-reloading extenrnal modules\n",
    "# see http://stackoverflow.com/questions/1907993/autoreload-of-modules-in-ipython\n",
    "%load_ext autoreload\n",
    "%autoreload 2"
   ]
  },
  {
   "cell_type": "code",
   "execution_count": 2,
   "metadata": {},
   "outputs": [
    {
     "name": "stdout",
     "output_type": "stream",
     "text": [
      "Train data shape:  (49000, 3073)\n",
      "Train labels shape:  (49000,)\n",
      "Validation data shape:  (1000, 3073)\n",
      "Validation labels shape:  (1000,)\n",
      "Test data shape:  (1000, 3073)\n",
      "Test labels shape:  (1000,)\n",
      "dev data shape:  (500, 3073)\n",
      "dev labels shape:  (500,)\n"
     ]
    }
   ],
   "source": [
    "def get_CIFAR10_data(num_training=49000, num_validation=1000, num_test=1000, num_dev=500):\n",
    "    \"\"\"\n",
    "    Load the CIFAR-10 dataset from disk and perform preprocessing to prepare\n",
    "    it for the linear classifier. These are the same steps as we used for the\n",
    "    SVM, but condensed to a single function.  \n",
    "    \"\"\"\n",
    "    # Load the raw CIFAR-10 data\n",
    "    cifar10_dir = 'cs231n/datasets/cifar-10-batches-py'\n",
    "    \n",
    "    X_train, y_train, X_test, y_test = load_CIFAR10(cifar10_dir)\n",
    "    \n",
    "    # subsample the data\n",
    "    mask = list(range(num_training, num_training + num_validation))\n",
    "    X_val = X_train[mask]\n",
    "    y_val = y_train[mask]\n",
    "    mask = list(range(num_training))\n",
    "    X_train = X_train[mask]\n",
    "    y_train = y_train[mask]\n",
    "    mask = list(range(num_test))\n",
    "    X_test = X_test[mask]\n",
    "    y_test = y_test[mask]\n",
    "    mask = np.random.choice(num_training, num_dev, replace=False)\n",
    "    X_dev = X_train[mask]\n",
    "    y_dev = y_train[mask]\n",
    "    \n",
    "    # Preprocessing: reshape the image data into rows\n",
    "    X_train = np.reshape(X_train, (X_train.shape[0], -1))\n",
    "    X_val = np.reshape(X_val, (X_val.shape[0], -1))\n",
    "    X_test = np.reshape(X_test, (X_test.shape[0], -1))\n",
    "    X_dev = np.reshape(X_dev, (X_dev.shape[0], -1))\n",
    "    \n",
    "    # Normalize the data: subtract the mean image\n",
    "    mean_image = np.mean(X_train, axis = 0)\n",
    "    X_train -= mean_image\n",
    "    X_val -= mean_image\n",
    "    X_test -= mean_image\n",
    "    X_dev -= mean_image\n",
    "    \n",
    "    # add bias dimension and transform into columns\n",
    "    X_train = np.hstack([X_train, np.ones((X_train.shape[0], 1))])\n",
    "    X_val = np.hstack([X_val, np.ones((X_val.shape[0], 1))])\n",
    "    X_test = np.hstack([X_test, np.ones((X_test.shape[0], 1))])\n",
    "    X_dev = np.hstack([X_dev, np.ones((X_dev.shape[0], 1))])\n",
    "    \n",
    "    return X_train, y_train, X_val, y_val, X_test, y_test, X_dev, y_dev\n",
    "\n",
    "\n",
    "# Cleaning up variables to prevent loading data multiple times (which may cause memory issue)\n",
    "try:\n",
    "   del X_train, y_train\n",
    "   del X_test, y_test\n",
    "   print('Clear previously loaded data.')\n",
    "except:\n",
    "   pass\n",
    "\n",
    "# Invoke the above function to get our data.\n",
    "X_train, y_train, X_val, y_val, X_test, y_test, X_dev, y_dev = get_CIFAR10_data()\n",
    "print('Train data shape: ', X_train.shape)\n",
    "print('Train labels shape: ', y_train.shape)\n",
    "print('Validation data shape: ', X_val.shape)\n",
    "print('Validation labels shape: ', y_val.shape)\n",
    "print('Test data shape: ', X_test.shape)\n",
    "print('Test labels shape: ', y_test.shape)\n",
    "print('dev data shape: ', X_dev.shape)\n",
    "print('dev labels shape: ', y_dev.shape)"
   ]
  },
  {
   "cell_type": "markdown",
   "metadata": {},
   "source": [
    "## Softmax Classifier\n",
    "\n",
    "Your code for this section will all be written inside **cs231n/classifiers/softmax.py**. \n"
   ]
  },
  {
   "cell_type": "code",
   "execution_count": 13,
   "metadata": {},
   "outputs": [
    {
     "name": "stdout",
     "output_type": "stream",
     "text": [
      "loss: 2.331775\n",
      "sanity check: 2.302585\n"
     ]
    }
   ],
   "source": [
    "# First implement the naive softmax loss function with nested loops.\n",
    "# Open the file cs231n/classifiers/softmax.py and implement the\n",
    "# softmax_loss_naive function.\n",
    "\n",
    "from cs231n.classifiers.softmax import softmax_loss_naive\n",
    "import time\n",
    "\n",
    "# Generate a random softmax weight matrix and use it to compute the loss.\n",
    "W = np.random.randn(3073, 10) * 0.0001\n",
    "loss, grad = softmax_loss_naive(W, X_dev, y_dev, 0.0)\n",
    "\n",
    "# As a rough sanity check, our loss should be something close to -log(0.1).\n",
    "print('loss: %f' % loss)\n",
    "print('sanity check: %f' % (-np.log(0.1)))"
   ]
  },
  {
   "cell_type": "markdown",
   "metadata": {},
   "source": [
    "## Inline Question 1:\n",
    "Why do we expect our loss to be close to -log(0.1)? Explain briefly.**\n",
    "\n",
    "**Your answer:** *Fill this in*\n"
   ]
  },
  {
   "cell_type": "code",
   "execution_count": 15,
   "metadata": {},
   "outputs": [
    {
     "name": "stdout",
     "output_type": "stream",
     "text": [
      "numerical: 4.609535 analytic: 4.609535, relative error: 1.165422e-08\n",
      "numerical: -1.112525 analytic: -1.112525, relative error: 1.662361e-08\n",
      "numerical: -1.258571 analytic: -1.258571, relative error: 1.357595e-08\n",
      "numerical: 2.986453 analytic: 2.986453, relative error: 1.256608e-08\n",
      "numerical: -0.154600 analytic: -0.154600, relative error: 1.966097e-08\n",
      "numerical: -1.926571 analytic: -1.926571, relative error: 5.371453e-08\n",
      "numerical: -0.908846 analytic: -0.908846, relative error: 4.449588e-08\n",
      "numerical: 1.831448 analytic: 1.831448, relative error: 1.697344e-08\n",
      "numerical: -2.339742 analytic: -2.339742, relative error: 1.810101e-09\n",
      "numerical: 1.280616 analytic: 1.280616, relative error: 2.835284e-08\n",
      "numerical: 2.358984 analytic: 2.358984, relative error: 3.638911e-09\n",
      "numerical: 2.302474 analytic: 2.302474, relative error: 1.930314e-08\n",
      "numerical: -0.657412 analytic: -0.657412, relative error: 9.463289e-08\n",
      "numerical: -3.504807 analytic: -3.504807, relative error: 2.000590e-09\n",
      "numerical: 1.387374 analytic: 1.387374, relative error: 3.974165e-08\n",
      "numerical: 1.561470 analytic: 1.561470, relative error: 6.388769e-08\n",
      "numerical: -1.816625 analytic: -1.816625, relative error: 2.083188e-08\n",
      "numerical: 2.282067 analytic: 2.282066, relative error: 2.354420e-08\n",
      "numerical: 0.381636 analytic: 0.381636, relative error: 4.154048e-08\n",
      "numerical: -6.748026 analytic: -6.748026, relative error: 7.249621e-10\n"
     ]
    }
   ],
   "source": [
    "# Complete the implementation of softmax_loss_naive and implement a (naive)\n",
    "# version of the gradient that uses nested loops.\n",
    "loss, grad = softmax_loss_naive(W, X_dev, y_dev, 0.0)\n",
    "\n",
    "# As we did for the SVM, use numeric gradient checking as a debugging tool.\n",
    "# The numeric gradient should be close to the analytic gradient.\n",
    "from cs231n.gradient_check import grad_check_sparse\n",
    "f = lambda w: softmax_loss_naive(w, X_dev, y_dev, 0.0)[0]\n",
    "grad_numerical = grad_check_sparse(f, W, grad, 10)\n",
    "\n",
    "# similar to SVM case, do another gradient check with regularization\n",
    "loss, grad = softmax_loss_naive(W, X_dev, y_dev, 5e1)\n",
    "f = lambda w: softmax_loss_naive(w, X_dev, y_dev, 5e1)[0]\n",
    "grad_numerical = grad_check_sparse(f, W, grad, 10)"
   ]
  },
  {
   "cell_type": "code",
   "execution_count": 21,
   "metadata": {},
   "outputs": [
    {
     "name": "stdout",
     "output_type": "stream",
     "text": [
      "naive loss: 2.331775e+00 computed in 0.198142s\n",
      "vectorized loss: 2.331775e+00 computed in 0.005689s\n",
      "Loss difference: 0.000000\n",
      "Gradient difference: 0.000000\n"
     ]
    }
   ],
   "source": [
    "# Now that we have a naive implementation of the softmax loss function and its gradient,\n",
    "# implement a vectorized version in softmax_loss_vectorized.\n",
    "# The two versions should compute the same results, but the vectorized version should be\n",
    "# much faster.\n",
    "tic = time.time()\n",
    "loss_naive, grad_naive = softmax_loss_naive(W, X_dev, y_dev, 0.000005)\n",
    "toc = time.time()\n",
    "print('naive loss: %e computed in %fs' % (loss_naive, toc - tic))\n",
    "\n",
    "from cs231n.classifiers.softmax import softmax_loss_vectorized\n",
    "tic = time.time()\n",
    "loss_vectorized, grad_vectorized = softmax_loss_vectorized(W, X_dev, y_dev, 0.000005)\n",
    "toc = time.time()\n",
    "print('vectorized loss: %e computed in %fs' % (loss_vectorized, toc - tic))\n",
    "\n",
    "# As we did for the SVM, we use the Frobenius norm to compare the two versions\n",
    "# of the gradient.\n",
    "grad_difference = np.linalg.norm(grad_naive - grad_vectorized, ord='fro')\n",
    "print('Loss difference: %f' % np.abs(loss_naive - loss_vectorized))\n",
    "print('Gradient difference: %f' % grad_difference)"
   ]
  },
  {
   "cell_type": "code",
   "execution_count": 23,
   "metadata": {},
   "outputs": [
    {
     "name": "stdout",
     "output_type": "stream",
     "text": [
      "iteration 0 / 20: loss 779.302060\n",
      "iteration 0 / 20: loss 974.222558\n",
      "iteration 0 / 20: loss 1177.039636\n",
      "iteration 0 / 20: loss 1332.855594\n",
      "iteration 0 / 20: loss 1536.371231\n",
      "iteration 0 / 20: loss 777.260176\n",
      "iteration 0 / 20: loss 952.049092\n",
      "iteration 0 / 20: loss 1175.385692\n",
      "iteration 0 / 20: loss 1358.742305\n",
      "iteration 0 / 20: loss 1555.430732\n",
      "iteration 0 / 20: loss 785.035578\n",
      "iteration 0 / 20: loss 949.393280\n",
      "iteration 0 / 20: loss 1161.086310\n",
      "iteration 0 / 20: loss 1353.086137\n",
      "iteration 0 / 20: loss 1549.659218\n",
      "iteration 0 / 20: loss 766.211518\n",
      "iteration 0 / 20: loss 967.831555\n",
      "iteration 0 / 20: loss 1164.030086\n",
      "iteration 0 / 20: loss 1343.389247\n",
      "iteration 0 / 20: loss 1547.311526\n",
      "iteration 0 / 20: loss 786.965377\n",
      "iteration 0 / 20: loss 957.812677\n",
      "iteration 0 / 20: loss 1140.755048\n",
      "iteration 0 / 20: loss 1351.538164\n",
      "iteration 0 / 20: loss 1575.280945\n",
      "lr 1.000000e-07 reg 2.500000e+04 train accuracy: 0.120918 val accuracy: 0.115000\n",
      "lr 1.000000e-07 reg 3.125000e+04 train accuracy: 0.109388 val accuracy: 0.112000\n",
      "lr 1.000000e-07 reg 3.750000e+04 train accuracy: 0.109571 val accuracy: 0.105000\n",
      "lr 1.000000e-07 reg 4.375000e+04 train accuracy: 0.094510 val accuracy: 0.078000\n",
      "lr 1.000000e-07 reg 5.000000e+04 train accuracy: 0.109449 val accuracy: 0.101000\n",
      "lr 2.000000e-07 reg 2.500000e+04 train accuracy: 0.119041 val accuracy: 0.128000\n",
      "lr 2.000000e-07 reg 3.125000e+04 train accuracy: 0.136694 val accuracy: 0.148000\n",
      "lr 2.000000e-07 reg 3.750000e+04 train accuracy: 0.123408 val accuracy: 0.101000\n",
      "lr 2.000000e-07 reg 4.375000e+04 train accuracy: 0.118408 val accuracy: 0.098000\n",
      "lr 2.000000e-07 reg 5.000000e+04 train accuracy: 0.127367 val accuracy: 0.117000\n",
      "lr 3.000000e-07 reg 2.500000e+04 train accuracy: 0.134388 val accuracy: 0.125000\n",
      "lr 3.000000e-07 reg 3.125000e+04 train accuracy: 0.133000 val accuracy: 0.154000\n",
      "lr 3.000000e-07 reg 3.750000e+04 train accuracy: 0.137163 val accuracy: 0.146000\n",
      "lr 3.000000e-07 reg 4.375000e+04 train accuracy: 0.124918 val accuracy: 0.124000\n",
      "lr 3.000000e-07 reg 5.000000e+04 train accuracy: 0.122551 val accuracy: 0.105000\n",
      "lr 4.000000e-07 reg 2.500000e+04 train accuracy: 0.121245 val accuracy: 0.110000\n",
      "lr 4.000000e-07 reg 3.125000e+04 train accuracy: 0.141490 val accuracy: 0.133000\n",
      "lr 4.000000e-07 reg 3.750000e+04 train accuracy: 0.164612 val accuracy: 0.165000\n",
      "lr 4.000000e-07 reg 4.375000e+04 train accuracy: 0.170449 val accuracy: 0.164000\n",
      "lr 4.000000e-07 reg 5.000000e+04 train accuracy: 0.155653 val accuracy: 0.159000\n",
      "lr 5.000000e-07 reg 2.500000e+04 train accuracy: 0.162408 val accuracy: 0.174000\n",
      "lr 5.000000e-07 reg 3.125000e+04 train accuracy: 0.163184 val accuracy: 0.152000\n",
      "lr 5.000000e-07 reg 3.750000e+04 train accuracy: 0.143204 val accuracy: 0.142000\n",
      "lr 5.000000e-07 reg 4.375000e+04 train accuracy: 0.170163 val accuracy: 0.161000\n",
      "lr 5.000000e-07 reg 5.000000e+04 train accuracy: 0.172531 val accuracy: 0.183000\n",
      "best validation accuracy achieved during cross-validation: 0.183000\n"
     ]
    }
   ],
   "source": [
    "# Use the validation set to tune hyperparameters (regularization strength and\n",
    "# learning rate). You should experiment with different ranges for the learning\n",
    "# rates and regularization strengths; if you are careful you should be able to\n",
    "# get a classification accuracy of over 0.35 on the validation set.\n",
    "from cs231n.classifiers import Softmax\n",
    "results = {}\n",
    "best_val = -1\n",
    "best_softmax = None\n",
    "learning_rates = [1e-7, 5e-7]\n",
    "regularization_strengths = [2.5e4, 5e4]\n",
    "\n",
    "################################################################################\n",
    "# TODO:                                                                        #\n",
    "# Use the validation set to set the learning rate and regularization strength. #\n",
    "# This should be identical to the validation that you did for the SVM; save    #\n",
    "# the best trained softmax classifer in best_softmax.                          #\n",
    "################################################################################\n",
    "\n",
    "rates = np.linspace(learning_rates[0], learning_rates[1], 5)\n",
    "regs = np.linspace(regularization_strengths[0], regularization_strengths[1], 5)\n",
    "\n",
    "for lr in rates:\n",
    "    for reg in regs:\n",
    "        # train\n",
    "        softmax = Softmax()\n",
    "        softmax.train(X_train, y_train, lr, reg, num_iters=1500, verbose=True)        \n",
    "        \n",
    "        # predict\n",
    "        y_train_acc = np.mean(y_train == softmax.predict(X_train))\n",
    "        y_val_acc = np.mean(y_val == softmax.predict(X_val))\n",
    "        results[(lr, reg)] = (y_train_acc, y_val_acc)\n",
    "        \n",
    "        if y_val_acc > best_val:\n",
    "            best_val = y_val_acc\n",
    "            best_softmax = softmax\n",
    "    \n",
    "# Print out results.\n",
    "for lr, reg in sorted(results):\n",
    "    train_accuracy, val_accuracy = results[(lr, reg)]\n",
    "    print('lr %e reg %e train accuracy: %f val accuracy: %f' % (\n",
    "                lr, reg, train_accuracy, val_accuracy))\n",
    "    \n",
    "print('best validation accuracy achieved during cross-validation: %f' % best_val)"
   ]
  },
  {
   "cell_type": "code",
   "execution_count": null,
   "metadata": {
    "collapsed": true
   },
   "outputs": [],
   "source": [
    "# evaluate on test set\n",
    "# Evaluate the best softmax on test set\n",
    "y_test_pred = best_softmax.predict(X_test)\n",
    "test_accuracy = np.mean(y_test == y_test_pred)\n",
    "print('softmax on raw pixels final test set accuracy: %f' % (test_accuracy, ))"
   ]
  },
  {
   "cell_type": "markdown",
   "metadata": {},
   "source": [
    "**Inline Question** - *True or False*\n",
    "\n",
    "It's possible to add a new datapoint to a training set that would leave the SVM loss unchanged, but this is not the case with the Softmax classifier loss.\n",
    "\n",
    "*Your answer*:\n",
    "\n",
    "*Your explanation*:"
   ]
  },
  {
   "cell_type": "code",
   "execution_count": null,
   "metadata": {
    "collapsed": true
   },
   "outputs": [],
   "source": [
    "# Visualize the learned weights for each class\n",
    "w = best_softmax.W[:-1,:] # strip out the bias\n",
    "w = w.reshape(32, 32, 3, 10)\n",
    "\n",
    "w_min, w_max = np.min(w), np.max(w)\n",
    "\n",
    "classes = ['plane', 'car', 'bird', 'cat', 'deer', 'dog', 'frog', 'horse', 'ship', 'truck']\n",
    "for i in range(10):\n",
    "    plt.subplot(2, 5, i + 1)\n",
    "    \n",
    "    # Rescale the weights to be between 0 and 255\n",
    "    wimg = 255.0 * (w[:, :, :, i].squeeze() - w_min) / (w_max - w_min)\n",
    "    plt.imshow(wimg.astype('uint8'))\n",
    "    plt.axis('off')\n",
    "    plt.title(classes[i])"
   ]
  }
 ],
 "metadata": {
  "kernelspec": {
   "display_name": "Python 3",
   "language": "python",
   "name": "python3"
  },
  "language_info": {
   "codemirror_mode": {
    "name": "ipython",
    "version": 3
   },
   "file_extension": ".py",
   "mimetype": "text/x-python",
   "name": "python",
   "nbconvert_exporter": "python",
   "pygments_lexer": "ipython3",
   "version": "3.6.3"
  }
 },
 "nbformat": 4,
 "nbformat_minor": 1
}
